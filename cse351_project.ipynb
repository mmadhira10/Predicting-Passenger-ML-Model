{
  "nbformat": 4,
  "nbformat_minor": 0,
  "metadata": {
    "colab": {
      "provenance": []
    },
    "kernelspec": {
      "name": "python3",
      "display_name": "Python 3"
    },
    "language_info": {
      "name": "python"
    }
  },
  "cells": [
    {
      "cell_type": "code",
      "execution_count": null,
      "metadata": {
        "id": "wR-e4cGYCAq9"
      },
      "outputs": [],
      "source": [
        "import pandas as pd\n",
        "import numpy as np\n",
        "import matplotlib as mp\n",
        "import seaborn as sns\n",
        "import scipy as sp\n",
        "import random\n",
        "from sklearn.linear_model import LogisticRegression\n",
        "from IPython.core.debugger import set_trace\n",
        "from sklearn.metrics import f1_score\n",
        "from sklearn.metrics import classification_report\n",
        "from sklearn.model_selection import train_test_split\n",
        "from sklearn.neighbors import KNeighborsClassifier\n",
        "from sklearn.naive_bayes import MultinomialNB\n",
        "from sklearn.naive_bayes import GaussianNB\n",
        "import math\n",
        "from sklearn.model_selection import cross_val_score\n",
        "from sklearn.pipeline import *\n",
        "from sklearn.feature_selection import chi2, SelectKBest\n",
        "from sklearn.model_selection import cross_val_score"
      ]
    },
    {
      "cell_type": "markdown",
      "source": [
        "# Exploratory Data Analysis (EDA):"
      ],
      "metadata": {
        "id": "jxCcxbaNUZGP"
      }
    },
    {
      "cell_type": "code",
      "source": [
        "train = pd.read_csv(r\"train.csv\")\n",
        "test = pd.read_csv(r\"test.csv\")"
      ],
      "metadata": {
        "id": "v3YsnxOUHTVb"
      },
      "execution_count": null,
      "outputs": []
    },
    {
      "cell_type": "markdown",
      "source": [
        "## Data Cleaning / Removing Outliers - Mihir\n",
        "Dropped unnecessary columns from the training and test data. Replaced \"Sex\" column values with 0s (male) and 1s (female) so that the data can be used for correlation analysis. Same was done with \"Embarked\" with 0s (S), 1s (C), and 2s (Q). "
      ],
      "metadata": {
        "id": "clSzuIhCE2mM"
      }
    },
    {
      "cell_type": "code",
      "source": [
        "train.drop([\"Name\", \"Ticket\", \"Cabin\"], axis=1, inplace=True)\n",
        "test.drop([\"Name\", \"Ticket\", \"Cabin\"], axis=1, inplace=True)\n",
        "test[\"Fare\"] = test[\"Fare\"].round()\n",
        "trainAgeAvg = round(train[\"Age\"].mean())\n",
        "testAgeAvg = round(test[\"Age\"].mean())\n",
        "\n",
        "train[\"Age\"] = train[\"Age\"].replace(np.nan, trainAgeAvg)\n",
        "test[\"Age\"] = test[\"Age\"].replace(np.nan, testAgeAvg)\n",
        "\n",
        "train['Sex'].replace(['male', 'female'],[0, 1], inplace=True)\n",
        "test['Sex'].replace(['male', 'female'],[0, 1], inplace=True)\n",
        "train['Embarked'].replace(['S', 'C', 'Q'],[0, 1, 2], inplace=True)\n",
        "test['Embarked'].replace(['S', 'C', 'Q'],[0, 1, 2], inplace=True)\n",
        "\n",
        "train[\"Embarked\"] = train[\"Embarked\"].replace(np.nan, random.randint(0, 2))\n",
        "# test[\"Embarked\"] = test[\"Embarked\"].replace(np.nan, 0)\n",
        "\n",
        "# train[(np.abs(sp.stats.zscore(train)) < 3).all(axis=1)]"
      ],
      "metadata": {
        "id": "C24A5cR8HaBK"
      },
      "execution_count": null,
      "outputs": []
    },
    {
      "cell_type": "markdown",
      "source": [
        "Removed all outliers by determining the z-score values of all the data based on the age and fare values. All rows that have a zscore value greater than 2.5 are removed from the dataset. "
      ],
      "metadata": {
        "id": "zuIBiSN-rpu_"
      }
    },
    {
      "cell_type": "code",
      "source": [
        "train_adj = train[[\"Age\", \"Fare\"]]\n",
        "\n",
        "z = sp.stats.zscore(train_adj)\n",
        "abs_z = np.abs(z)\n",
        "\n",
        "filtered = (abs_z < 2.5).all(axis=1)\n",
        "train = train[filtered]\n",
        "# filtered_entries\n",
        "train"
      ],
      "metadata": {
        "colab": {
          "base_uri": "https://localhost:8080/",
          "height": 424
        },
        "id": "eVoPYJP889ze",
        "outputId": "fbd613e4-0149-4acc-feec-626ad010a9ea"
      },
      "execution_count": null,
      "outputs": [
        {
          "output_type": "execute_result",
          "data": {
            "text/plain": [
              "     PassengerId  Survived  Pclass  Sex   Age  SibSp  Parch     Fare  Embarked\n",
              "0              1         0       3    0  22.0      1      0   7.2500       0.0\n",
              "1              2         1       1    1  38.0      1      0  71.2833       1.0\n",
              "2              3         1       3    1  26.0      0      0   7.9250       0.0\n",
              "3              4         1       1    1  35.0      1      0  53.1000       0.0\n",
              "4              5         0       3    0  35.0      0      0   8.0500       0.0\n",
              "..           ...       ...     ...  ...   ...    ...    ...      ...       ...\n",
              "886          887         0       2    0  27.0      0      0  13.0000       0.0\n",
              "887          888         1       1    1  19.0      0      0  30.0000       0.0\n",
              "888          889         0       3    1  30.0      1      2  23.4500       0.0\n",
              "889          890         1       1    0  26.0      0      0  30.0000       1.0\n",
              "890          891         0       3    0  32.0      0      0   7.7500       2.0\n",
              "\n",
              "[855 rows x 9 columns]"
            ],
            "text/html": [
              "\n",
              "  <div id=\"df-9a9cf219-34ae-42f2-9f9f-a0dd9967612b\">\n",
              "    <div class=\"colab-df-container\">\n",
              "      <div>\n",
              "<style scoped>\n",
              "    .dataframe tbody tr th:only-of-type {\n",
              "        vertical-align: middle;\n",
              "    }\n",
              "\n",
              "    .dataframe tbody tr th {\n",
              "        vertical-align: top;\n",
              "    }\n",
              "\n",
              "    .dataframe thead th {\n",
              "        text-align: right;\n",
              "    }\n",
              "</style>\n",
              "<table border=\"1\" class=\"dataframe\">\n",
              "  <thead>\n",
              "    <tr style=\"text-align: right;\">\n",
              "      <th></th>\n",
              "      <th>PassengerId</th>\n",
              "      <th>Survived</th>\n",
              "      <th>Pclass</th>\n",
              "      <th>Sex</th>\n",
              "      <th>Age</th>\n",
              "      <th>SibSp</th>\n",
              "      <th>Parch</th>\n",
              "      <th>Fare</th>\n",
              "      <th>Embarked</th>\n",
              "    </tr>\n",
              "  </thead>\n",
              "  <tbody>\n",
              "    <tr>\n",
              "      <th>0</th>\n",
              "      <td>1</td>\n",
              "      <td>0</td>\n",
              "      <td>3</td>\n",
              "      <td>0</td>\n",
              "      <td>22.0</td>\n",
              "      <td>1</td>\n",
              "      <td>0</td>\n",
              "      <td>7.2500</td>\n",
              "      <td>0.0</td>\n",
              "    </tr>\n",
              "    <tr>\n",
              "      <th>1</th>\n",
              "      <td>2</td>\n",
              "      <td>1</td>\n",
              "      <td>1</td>\n",
              "      <td>1</td>\n",
              "      <td>38.0</td>\n",
              "      <td>1</td>\n",
              "      <td>0</td>\n",
              "      <td>71.2833</td>\n",
              "      <td>1.0</td>\n",
              "    </tr>\n",
              "    <tr>\n",
              "      <th>2</th>\n",
              "      <td>3</td>\n",
              "      <td>1</td>\n",
              "      <td>3</td>\n",
              "      <td>1</td>\n",
              "      <td>26.0</td>\n",
              "      <td>0</td>\n",
              "      <td>0</td>\n",
              "      <td>7.9250</td>\n",
              "      <td>0.0</td>\n",
              "    </tr>\n",
              "    <tr>\n",
              "      <th>3</th>\n",
              "      <td>4</td>\n",
              "      <td>1</td>\n",
              "      <td>1</td>\n",
              "      <td>1</td>\n",
              "      <td>35.0</td>\n",
              "      <td>1</td>\n",
              "      <td>0</td>\n",
              "      <td>53.1000</td>\n",
              "      <td>0.0</td>\n",
              "    </tr>\n",
              "    <tr>\n",
              "      <th>4</th>\n",
              "      <td>5</td>\n",
              "      <td>0</td>\n",
              "      <td>3</td>\n",
              "      <td>0</td>\n",
              "      <td>35.0</td>\n",
              "      <td>0</td>\n",
              "      <td>0</td>\n",
              "      <td>8.0500</td>\n",
              "      <td>0.0</td>\n",
              "    </tr>\n",
              "    <tr>\n",
              "      <th>...</th>\n",
              "      <td>...</td>\n",
              "      <td>...</td>\n",
              "      <td>...</td>\n",
              "      <td>...</td>\n",
              "      <td>...</td>\n",
              "      <td>...</td>\n",
              "      <td>...</td>\n",
              "      <td>...</td>\n",
              "      <td>...</td>\n",
              "    </tr>\n",
              "    <tr>\n",
              "      <th>886</th>\n",
              "      <td>887</td>\n",
              "      <td>0</td>\n",
              "      <td>2</td>\n",
              "      <td>0</td>\n",
              "      <td>27.0</td>\n",
              "      <td>0</td>\n",
              "      <td>0</td>\n",
              "      <td>13.0000</td>\n",
              "      <td>0.0</td>\n",
              "    </tr>\n",
              "    <tr>\n",
              "      <th>887</th>\n",
              "      <td>888</td>\n",
              "      <td>1</td>\n",
              "      <td>1</td>\n",
              "      <td>1</td>\n",
              "      <td>19.0</td>\n",
              "      <td>0</td>\n",
              "      <td>0</td>\n",
              "      <td>30.0000</td>\n",
              "      <td>0.0</td>\n",
              "    </tr>\n",
              "    <tr>\n",
              "      <th>888</th>\n",
              "      <td>889</td>\n",
              "      <td>0</td>\n",
              "      <td>3</td>\n",
              "      <td>1</td>\n",
              "      <td>30.0</td>\n",
              "      <td>1</td>\n",
              "      <td>2</td>\n",
              "      <td>23.4500</td>\n",
              "      <td>0.0</td>\n",
              "    </tr>\n",
              "    <tr>\n",
              "      <th>889</th>\n",
              "      <td>890</td>\n",
              "      <td>1</td>\n",
              "      <td>1</td>\n",
              "      <td>0</td>\n",
              "      <td>26.0</td>\n",
              "      <td>0</td>\n",
              "      <td>0</td>\n",
              "      <td>30.0000</td>\n",
              "      <td>1.0</td>\n",
              "    </tr>\n",
              "    <tr>\n",
              "      <th>890</th>\n",
              "      <td>891</td>\n",
              "      <td>0</td>\n",
              "      <td>3</td>\n",
              "      <td>0</td>\n",
              "      <td>32.0</td>\n",
              "      <td>0</td>\n",
              "      <td>0</td>\n",
              "      <td>7.7500</td>\n",
              "      <td>2.0</td>\n",
              "    </tr>\n",
              "  </tbody>\n",
              "</table>\n",
              "<p>855 rows × 9 columns</p>\n",
              "</div>\n",
              "      <button class=\"colab-df-convert\" onclick=\"convertToInteractive('df-9a9cf219-34ae-42f2-9f9f-a0dd9967612b')\"\n",
              "              title=\"Convert this dataframe to an interactive table.\"\n",
              "              style=\"display:none;\">\n",
              "        \n",
              "  <svg xmlns=\"http://www.w3.org/2000/svg\" height=\"24px\"viewBox=\"0 0 24 24\"\n",
              "       width=\"24px\">\n",
              "    <path d=\"M0 0h24v24H0V0z\" fill=\"none\"/>\n",
              "    <path d=\"M18.56 5.44l.94 2.06.94-2.06 2.06-.94-2.06-.94-.94-2.06-.94 2.06-2.06.94zm-11 1L8.5 8.5l.94-2.06 2.06-.94-2.06-.94L8.5 2.5l-.94 2.06-2.06.94zm10 10l.94 2.06.94-2.06 2.06-.94-2.06-.94-.94-2.06-.94 2.06-2.06.94z\"/><path d=\"M17.41 7.96l-1.37-1.37c-.4-.4-.92-.59-1.43-.59-.52 0-1.04.2-1.43.59L10.3 9.45l-7.72 7.72c-.78.78-.78 2.05 0 2.83L4 21.41c.39.39.9.59 1.41.59.51 0 1.02-.2 1.41-.59l7.78-7.78 2.81-2.81c.8-.78.8-2.07 0-2.86zM5.41 20L4 18.59l7.72-7.72 1.47 1.35L5.41 20z\"/>\n",
              "  </svg>\n",
              "      </button>\n",
              "      \n",
              "  <style>\n",
              "    .colab-df-container {\n",
              "      display:flex;\n",
              "      flex-wrap:wrap;\n",
              "      gap: 12px;\n",
              "    }\n",
              "\n",
              "    .colab-df-convert {\n",
              "      background-color: #E8F0FE;\n",
              "      border: none;\n",
              "      border-radius: 50%;\n",
              "      cursor: pointer;\n",
              "      display: none;\n",
              "      fill: #1967D2;\n",
              "      height: 32px;\n",
              "      padding: 0 0 0 0;\n",
              "      width: 32px;\n",
              "    }\n",
              "\n",
              "    .colab-df-convert:hover {\n",
              "      background-color: #E2EBFA;\n",
              "      box-shadow: 0px 1px 2px rgba(60, 64, 67, 0.3), 0px 1px 3px 1px rgba(60, 64, 67, 0.15);\n",
              "      fill: #174EA6;\n",
              "    }\n",
              "\n",
              "    [theme=dark] .colab-df-convert {\n",
              "      background-color: #3B4455;\n",
              "      fill: #D2E3FC;\n",
              "    }\n",
              "\n",
              "    [theme=dark] .colab-df-convert:hover {\n",
              "      background-color: #434B5C;\n",
              "      box-shadow: 0px 1px 3px 1px rgba(0, 0, 0, 0.15);\n",
              "      filter: drop-shadow(0px 1px 2px rgba(0, 0, 0, 0.3));\n",
              "      fill: #FFFFFF;\n",
              "    }\n",
              "  </style>\n",
              "\n",
              "      <script>\n",
              "        const buttonEl =\n",
              "          document.querySelector('#df-9a9cf219-34ae-42f2-9f9f-a0dd9967612b button.colab-df-convert');\n",
              "        buttonEl.style.display =\n",
              "          google.colab.kernel.accessAllowed ? 'block' : 'none';\n",
              "\n",
              "        async function convertToInteractive(key) {\n",
              "          const element = document.querySelector('#df-9a9cf219-34ae-42f2-9f9f-a0dd9967612b');\n",
              "          const dataTable =\n",
              "            await google.colab.kernel.invokeFunction('convertToInteractive',\n",
              "                                                     [key], {});\n",
              "          if (!dataTable) return;\n",
              "\n",
              "          const docLinkHtml = 'Like what you see? Visit the ' +\n",
              "            '<a target=\"_blank\" href=https://colab.research.google.com/notebooks/data_table.ipynb>data table notebook</a>'\n",
              "            + ' to learn more about interactive tables.';\n",
              "          element.innerHTML = '';\n",
              "          dataTable['output_type'] = 'display_data';\n",
              "          await google.colab.output.renderOutput(dataTable, element);\n",
              "          const docLink = document.createElement('div');\n",
              "          docLink.innerHTML = docLinkHtml;\n",
              "          element.appendChild(docLink);\n",
              "        }\n",
              "      </script>\n",
              "    </div>\n",
              "  </div>\n",
              "  "
            ]
          },
          "metadata": {},
          "execution_count": 6
        }
      ]
    },
    {
      "cell_type": "markdown",
      "source": [
        "## Socio-economic Trends - Sid"
      ],
      "metadata": {
        "id": "QCLmofO_niAS"
      }
    },
    {
      "cell_type": "markdown",
      "source": [
        "### Age vs. Fare Value\n",
        "Here's a scatter plot that maps the age of each passenger to the fare value. Based on the scatter plot, we can see a general concentration of increased fare value in the age range from 20 to 40 years. "
      ],
      "metadata": {
        "id": "dEU31SWmtDPu"
      }
    },
    {
      "cell_type": "code",
      "source": [
        "mp.pyplot.scatter(train[\"Age\"], train[\"Fare\"])\n",
        "mp.pyplot.title(\"Age vs Fare Value\")\n",
        "mp.pyplot.xlabel(\"Age\")\n",
        "mp.pyplot.ylabel(\"Fare Value in Dollars\")"
      ],
      "metadata": {
        "colab": {
          "base_uri": "https://localhost:8080/",
          "height": 312
        },
        "id": "A0fQaFU1Ztve",
        "outputId": "0fb1e419-7107-488a-9a7c-f985e7d0c705"
      },
      "execution_count": null,
      "outputs": [
        {
          "output_type": "execute_result",
          "data": {
            "text/plain": [
              "Text(0, 0.5, 'Fare Value in Dollars')"
            ]
          },
          "metadata": {},
          "execution_count": 7
        },
        {
          "output_type": "display_data",
          "data": {
            "text/plain": [
              "<Figure size 432x288 with 1 Axes>"
            ],
            "image/png": "[encoded data removed]"
          },
          "metadata": {
            "needs_background": "light"
          }
        }
      ]
    },
    {
      "cell_type": "markdown",
      "source": [
        "### Number of Siblings/Spouses vs. Fare Price\n",
        "Got the maximum number of sibilings/spouses and iterated through a loop that added the median values of all of the number of sibling/spouses in the dataset to a list along with an index with all of the possible sibling/spouses to another list. Then, the medians were plotted onto a bar graph. Based on the graph, as the number of sibling/spouses increase, the fare price increases, showing a positive correlation. "
      ],
      "metadata": {
        "id": "S5WZ55-s-yXQ"
      }
    },
    {
      "cell_type": "code",
      "source": [
        "max = train[\"SibSp\"].max()\n",
        "\n",
        "sibFareVals = []\n",
        "index = []\n",
        "for i in range(max+1):\n",
        "  sibFareVals.append(train[train['SibSp'] == i]['Fare'].median())\n",
        "  index.append(str(i))\n",
        "\n",
        "df = pd.DataFrame({'Number of Siblings/Spouses': sibFareVals}, index=index)\n",
        "ax = df.plot.bar(rot=0)\n",
        "mp.pyplot.title(\"Median Fare Values by Number of Siblings/Spouses\")\n",
        "mp.pyplot.xlabel(\"Number of Siblings/Spouses\")\n",
        "mp.pyplot.ylabel(\"Median Fare Value\")"
      ],
      "metadata": {
        "colab": {
          "base_uri": "https://localhost:8080/",
          "height": 312
        },
        "id": "QXehP_qZ7WDu",
        "outputId": "9e951fc9-4c3a-4db6-b9e2-91350b50cf7e"
      },
      "execution_count": null,
      "outputs": [
        {
          "output_type": "execute_result",
          "data": {
            "text/plain": [
              "Text(0, 0.5, 'Median Fare Value')"
            ]
          },
          "metadata": {},
          "execution_count": 8
        },
        {
          "output_type": "display_data",
          "data": {
            "text/plain": [
              "<Figure size 432x288 with 1 Axes>"
            ],
            "image/png": "[encoded data removed]"
          },
          "metadata": {
            "needs_background": "light"
          }
        }
      ]
    },
    {
      "cell_type": "markdown",
      "source": [
        "### Number of Parents/Children vs. Fare Price\n",
        "Got the maximum number of parents/children and iterated through a loop that added the median values of all of the number of parents/children in the dataset to a list along with an index with all of the possible parents/children to another list. Then, the medians were plotted onto a bar graph. Based on the graph, as the number of parents/children increase, the fare price generally increases, showing a positive correlation. "
      ],
      "metadata": {
        "id": "aFo79zD_D4h8"
      }
    },
    {
      "cell_type": "code",
      "source": [
        "max = train[\"Parch\"].max()\n",
        "\n",
        "sibFareVals = []\n",
        "index = []\n",
        "for i in range(max+1):\n",
        "  sibFareVals.append(train[train['Parch'] == i]['Fare'].median())\n",
        "  index.append(str(i))\n",
        "\n",
        "df = pd.DataFrame({'Number of Parents/Children': sibFareVals}, index=index)\n",
        "ax = df.plot.bar(rot=0)\n",
        "mp.pyplot.title(\"Median Fare Values by Number of Parents/Children\")\n",
        "mp.pyplot.xlabel(\"Number of Parents/Children\")\n",
        "mp.pyplot.ylabel(\"Median Fare Value\")"
      ],
      "metadata": {
        "colab": {
          "base_uri": "https://localhost:8080/",
          "height": 312
        },
        "id": "1dzsM9_f_hOk",
        "outputId": "c2fc0288-0fba-4c29-b1c2-4312d8101607"
      },
      "execution_count": null,
      "outputs": [
        {
          "output_type": "execute_result",
          "data": {
            "text/plain": [
              "Text(0, 0.5, 'Median Fare Value')"
            ]
          },
          "metadata": {},
          "execution_count": 9
        },
        {
          "output_type": "display_data",
          "data": {
            "text/plain": [
              "<Figure size 432x288 with 1 Axes>"
            ],
            "image/png": "[encoded data removed]"
          },
          "metadata": {
            "needs_background": "light"
          }
        }
      ]
    },
    {
      "cell_type": "markdown",
      "source": [
        "### Pclass vs. Fare Price\n",
        "Got the maximum number of classes and iterated through a loop that added the median fare values of all of the classes in the dataset to a list along with an index with all of the possible classes to another list. Then, the medians were plotted onto a bar graph. Based on the graph, as the class number increases, the fare price decreases, showing a positive correlation. This makes sense because first class should be the costliest while the lowest class, third class, is the cheapest. "
      ],
      "metadata": {
        "id": "Y2dQAKUYDvhT"
      }
    },
    {
      "cell_type": "code",
      "source": [
        "max = train[\"Pclass\"].max()\n",
        "\n",
        "pclassFareVals = []\n",
        "index = []\n",
        "for i in range(max+1):\n",
        "  if i > 0:\n",
        "    pclassFareVals.append(train[train['Pclass'] == i]['Fare'].median())\n",
        "    index.append(str(i))\n",
        "\n",
        "df = pd.DataFrame({'Pclass (Ticket Class)': pclassFareVals}, index=index)\n",
        "ax = df.plot.bar(rot=0)\n",
        "mp.pyplot.title(\"Median Fare Values by Pclass\")\n",
        "mp.pyplot.xlabel(\"Pclass\")\n",
        "mp.pyplot.ylabel(\"Median Fare Value\")"
      ],
      "metadata": {
        "colab": {
          "base_uri": "https://localhost:8080/",
          "height": 312
        },
        "id": "6pd2dN6MCo4s",
        "outputId": "1658df57-e8be-478f-81a8-ab187b743e49"
      },
      "execution_count": null,
      "outputs": [
        {
          "output_type": "execute_result",
          "data": {
            "text/plain": [
              "Text(0, 0.5, 'Median Fare Value')"
            ]
          },
          "metadata": {},
          "execution_count": 10
        },
        {
          "output_type": "display_data",
          "data": {
            "text/plain": [
              "<Figure size 432x288 with 1 Axes>"
            ],
            "image/png": "[encoded data removed]"
          },
          "metadata": {
            "needs_background": "light"
          }
        }
      ]
    },
    {
      "cell_type": "markdown",
      "source": [
        "### Sex vs. Fare Price\n",
        "Since Sex only has two possibilities, 0 and 1, there's no need to calculate the maximum number and iterate. The average values are calculated accordingly and plotted to a bar graph. Based on the bar graph, females had to pay a higher fare than men. "
      ],
      "metadata": {
        "id": "6PH-u4sv_PiZ"
      }
    },
    {
      "cell_type": "code",
      "source": [
        "maleAvgFare = train[train['Sex'] == 0]['Fare'].mean()\n",
        "femaleAvgFare = train[train['Sex'] == 1]['Fare'].mean()\n",
        "\n",
        "avgFareVals = [maleAvgFare, femaleAvgFare]\n",
        "\n",
        "index = ['male', 'female']\n",
        "\n",
        "df = pd.DataFrame({'Sex': avgFareVals}, index=index)\n",
        "ax = df.plot.bar(rot=0)\n",
        "mp.pyplot.title(\"Average Fare Values by Sex\")\n",
        "mp.pyplot.xlabel(\"Sex\")\n",
        "mp.pyplot.ylabel(\"Average Fare Value\")"
      ],
      "metadata": {
        "colab": {
          "base_uri": "https://localhost:8080/",
          "height": 312
        },
        "id": "bEs5_E6zbXZC",
        "outputId": "2f93365d-b29e-4803-a456-0917538a3ab4"
      },
      "execution_count": null,
      "outputs": [
        {
          "output_type": "execute_result",
          "data": {
            "text/plain": [
              "Text(0, 0.5, 'Average Fare Value')"
            ]
          },
          "metadata": {},
          "execution_count": 11
        },
        {
          "output_type": "display_data",
          "data": {
            "text/plain": [
              "<Figure size 432x288 with 1 Axes>"
            ],
            "image/png": "[encoded data removed]"
          },
          "metadata": {
            "needs_background": "light"
          }
        }
      ]
    },
    {
      "cell_type": "markdown",
      "source": [
        "### Port Embarked vs. Fare Price\n",
        "Since Embarked only has three possibilities, 0, 1, and 2, there's no need to calculate the maximum number and iterate. The average values are calculated accordingly and plotted to a bar graph. Based on the bar graph, people who embarked from Cherbourg had the highest fare and those that embarked from Queestown had the lowest fare. "
      ],
      "metadata": {
        "id": "548GFQem_TrP"
      }
    },
    {
      "cell_type": "code",
      "source": [
        "cAvgFare = train[train['Embarked'] == 1]['Fare'].mean()\n",
        "qAvgFare = train[train['Embarked'] == 2]['Fare'].mean()\n",
        "sAvgFare = train[train['Embarked'] == 0]['Fare'].mean()\n",
        "\n",
        "embarkedFareVals = [cAvgFare, qAvgFare, sAvgFare]\n",
        "index = ['Cherbourg', 'Queenstown', 'Southampton']\n",
        "\n",
        "df = pd.DataFrame({'Embarked': embarkedFareVals}, index=index)\n",
        "ax = df.plot.bar(rot=0)\n",
        "mp.pyplot.title(\"Average Fare Values by Embarked\")\n",
        "mp.pyplot.xlabel(\"Embarked\")\n",
        "mp.pyplot.ylabel(\"Average Fare Value\")"
      ],
      "metadata": {
        "id": "j4M6pfHGPJPJ",
        "colab": {
          "base_uri": "https://localhost:8080/",
          "height": 312
        },
        "outputId": "45f45d38-2dcd-4ec4-8857-4b4498c36478"
      },
      "execution_count": null,
      "outputs": [
        {
          "output_type": "execute_result",
          "data": {
            "text/plain": [
              "Text(0, 0.5, 'Average Fare Value')"
            ]
          },
          "metadata": {},
          "execution_count": 12
        },
        {
          "output_type": "display_data",
          "data": {
            "text/plain": [
              "<Figure size 432x288 with 1 Axes>"
            ],
            "image/png": "[encoded data removed]"
          },
          "metadata": {
            "needs_background": "light"
          }
        }
      ]
    },
    {
      "cell_type": "markdown",
      "source": [
        "We used non-numerical like \"Embarked\" and \"Sex\" to extrapolate information about the socio-economic demographics of the people on the Titanic. To restate the information we extracted previously, we determined that females paid a high fare price than males and the fare prices increased from people who embarked from Queenstown, Southampton, and Cherbourg, respectively. "
      ],
      "metadata": {
        "id": "UEhj8NEVHb4n"
      }
    },
    {
      "cell_type": "markdown",
      "source": [
        "## Survival Victims Trends - Sid"
      ],
      "metadata": {
        "id": "2urVSuiTE-mV"
      }
    },
    {
      "cell_type": "markdown",
      "source": [
        "### Distribution of Survival Victims in Relation to Gender\n",
        "A bar graph was plotted that displays males that didn't survive, males that survived, females that didn't survive, and females that survived. Based on the graph, most of the males did not survive while more females survived compared to men. In fact, more females survived than males did on the Titanic. "
      ],
      "metadata": {
        "id": "J-oTBWukmLjW"
      }
    },
    {
      "cell_type": "code",
      "source": [
        "not_survived = train[train['Survived'] == 0]\n",
        "survived = train[train['Survived'] == 1]\n",
        "\n",
        "male_not_survived = not_survived[not_survived['Sex'] == 0].shape[0]\n",
        "male_survived = survived[survived['Sex'] == 0].shape[0]\n",
        "\n",
        "female_not_survived = not_survived[not_survived['Sex'] == 1].shape[0]\n",
        "female_survived = survived[survived['Sex'] == 1].shape[0]\n",
        "\n",
        "survived_numbers = [male_not_survived, male_survived, female_not_survived, female_survived]\n",
        "survived_names = ['Male Not Survived', 'Male Survived', 'Female not Survived', 'Female Survived']\n",
        "\n",
        "df = pd.DataFrame({'Survived': survived_numbers}, index=survived_names)\n",
        "ax = df.plot.bar(rot=0, figsize=(10, 2.5))\n",
        "mp.pyplot.title(\"Distribution of Survival Victims in Relation to Gender\")\n",
        "mp.pyplot.xlabel(\"Sex Survived\")\n",
        "mp.pyplot.ylabel(\"Number of People Survived/Not Survived \")"
      ],
      "metadata": {
        "id": "rcYaR5AGFHjP",
        "colab": {
          "base_uri": "https://localhost:8080/",
          "height": 255
        },
        "outputId": "54a93ffe-a8d4-4241-f41a-7a08aedfeaca"
      },
      "execution_count": null,
      "outputs": [
        {
          "output_type": "execute_result",
          "data": {
            "text/plain": [
              "Text(0, 0.5, 'Number of People Survived/Not Survived ')"
            ]
          },
          "metadata": {},
          "execution_count": 13
        },
        {
          "output_type": "display_data",
          "data": {
            "text/plain": [
              "<Figure size 720x180 with 1 Axes>"
            ],
            "image/png": "[encoded data removed]"
          },
          "metadata": {
            "needs_background": "light"
          }
        }
      ]
    },
    {
      "cell_type": "markdown",
      "source": [
        "### Distribution of Survival Victims in Relation to Pclass\n",
        "A bar graph was plotted that displays 1st class people that survived, 1st class people that didn't survive, 2nd class people that survived, 2nd class people that didn't survive, 3rd class people that survived, and 3rd class people that didn't survive. Based on the data, the majority of people that did not survive were people from the 3rd class. Another interesting detail is that in terms of percentage, a greater percent of 1st class people survived and as we go to the 2nd and 3rd class, the percentage of people that survive consistently decrease. "
      ],
      "metadata": {
        "id": "NOegFLRupDeQ"
      }
    },
    {
      "cell_type": "code",
      "source": [
        "not_survived = train[train['Survived'] == 0]\n",
        "survived = train[train['Survived'] == 1]\n",
        "\n",
        "p1_survived = survived[survived['Pclass'] == 1].shape[0]\n",
        "p1_not_survived = not_survived[not_survived['Pclass'] == 1].shape[0]\n",
        "\n",
        "p2_survived = survived[survived['Pclass'] == 2].shape[0]\n",
        "p2_not_survived = not_survived[not_survived['Pclass'] == 2].shape[0]\n",
        "\n",
        "p3_survived = survived[survived['Pclass'] == 3].shape[0]\n",
        "p3_not_survived = not_survived[not_survived['Pclass'] == 3].shape[0]\n",
        "\n",
        "survived_numbers = [p1_survived, p1_not_survived, p2_survived, p2_not_survived,\n",
        "                    p3_survived, p3_not_survived]\n",
        "survived_names = ['Pclass 1 Survived', 'Pclass 1 Not Survived', 'Pclass 2 Survived', \n",
        "                  'Pclass 2 Not Survived', 'Pclass 3 Survived', 'Pclass 3 Not Survived']\n",
        "\n",
        "df = pd.DataFrame({'Survived': survived_numbers}, index=survived_names)\n",
        "ax = df.plot.bar(rot=0, figsize=(12.5, 2.5))\n",
        "mp.pyplot.title(\"Distribution of Survival Victims in Relation to Pclass\")\n",
        "mp.pyplot.xlabel(\"Pclass Survived\")\n",
        "mp.pyplot.ylabel(\"Number of People Survived \")"
      ],
      "metadata": {
        "colab": {
          "base_uri": "https://localhost:8080/",
          "height": 231
        },
        "id": "R15gAsq1mXrH",
        "outputId": "f4d28d8d-6ca2-4648-bfdd-c27045caa600"
      },
      "execution_count": null,
      "outputs": [
        {
          "output_type": "execute_result",
          "data": {
            "text/plain": [
              "Text(0, 0.5, 'Number of People Survived ')"
            ]
          },
          "metadata": {},
          "execution_count": 14
        },
        {
          "output_type": "display_data",
          "data": {
            "text/plain": [
              "<Figure size 900x180 with 1 Axes>"
            ],
            "image/png": "[encoded data removed]"
          },
          "metadata": {
            "needs_background": "light"
          }
        }
      ]
    },
    {
      "cell_type": "markdown",
      "source": [
        "### Distribution of Survival Victims in Relation to Age\n",
        "A bar graph was plotted that displays those from ages 0-25 that survived, 0-25 that didn't survive, 25-50 that survived, 25-50 that didn't survive, 50+ that survived, and 50+ that didn't survive. Based on the data, the majority of people that surived, in terms of numbers, were from ages 0-20 and 25-50. However, in terms of percentages, there isn't a significant increase. This is mostly due to the pclass of the people. From the beginning, we observed that those who had a higher fare, therefore a higher class, were concentrated in 20 to 50. "
      ],
      "metadata": {
        "id": "wP_MLHlFqFZi"
      }
    },
    {
      "cell_type": "code",
      "source": [
        "not_survived = train[train['Survived'] == 0]\n",
        "survived = train[train['Survived'] == 1]\n",
        "\n",
        "age1_survived = survived[survived['Age'] < 25].shape[0]\n",
        "age1_not_survived = not_survived[not_survived['Age'] < 25].shape[0]\n",
        "\n",
        "age2_survived = survived[survived['Age'].between(25, 50)].shape[0]\n",
        "age2_not_survived = not_survived[not_survived['Age'].between(25, 50)].shape[0]\n",
        "\n",
        "age3_survived = survived[survived['Age'] > 50].shape[0]\n",
        "age3_not_survived = not_survived[not_survived['Age'] > 50].shape[0]\n",
        "\n",
        "survived_numbers = [age1_survived, age1_not_survived, age2_survived, age2_not_survived,\n",
        "                    age3_survived, age3_not_survived]\n",
        "survived_names = ['Age 0-25 Survived', 'Age 0-25 Not Survived', 'Age 25-50 Survived', \n",
        "                  'Age 25-50 Not Survived', 'Age 50+ Survived', 'Age. 50+ Not Survived']\n",
        "\n",
        "df = pd.DataFrame({'Survived': survived_numbers}, index=survived_names)\n",
        "ax = df.plot.bar(rot=0, figsize=(12.5, 2.5))\n",
        "mp.pyplot.title(\"Distribution of Survival Victims in Relation to Age\")\n",
        "mp.pyplot.xlabel(\"Age Survived\")\n",
        "mp.pyplot.ylabel(\"Number of People Survived \")"
      ],
      "metadata": {
        "colab": {
          "base_uri": "https://localhost:8080/",
          "height": 231
        },
        "id": "83sQQjl6qIC0",
        "outputId": "983d7b91-6570-45e2-8a9f-ce5b9e1fb2c8"
      },
      "execution_count": null,
      "outputs": [
        {
          "output_type": "execute_result",
          "data": {
            "text/plain": [
              "Text(0, 0.5, 'Number of People Survived ')"
            ]
          },
          "metadata": {},
          "execution_count": 15
        },
        {
          "output_type": "display_data",
          "data": {
            "text/plain": [
              "<Figure size 900x180 with 1 Axes>"
            ],
            "image/png": "[encoded data removed]"
          },
          "metadata": {
            "needs_background": "light"
          }
        }
      ]
    },
    {
      "cell_type": "markdown",
      "source": [
        "## Correlation Analysis - Sid\n",
        "A correlation analysis was done on all of the features and some interesting results were shown. Based on the data, the strong positive correlation we found was between those that survived and sex. The people that survived were mostly female. This makes sense because when the Titanic was sinking, they gave priority to women and children. The strongest negative correlation we found was between pclass and fare. This supports the bar graph we created earlier that showed the relationship between fare and pclass. As the classes go from 1st to 3rd class, the prices should decrease. Other important details that are worth mentioning are the correlations between survived and pclass, survived and fare, survived and embarked port, age and parch, sibsp and parch, sex and fare, sibsp and fare, and parch and fare. This concludes that based on the high correlation values, these factors may have made a difference in surviving the Titanic versus not suriviving. "
      ],
      "metadata": {
        "id": "OPkxE5x8lZtG"
      }
    },
    {
      "cell_type": "code",
      "source": [
        "pearson_columns = train[['Survived', 'Pclass', 'Sex', 'Age', 'SibSp', 'Parch', 'Fare', 'Embarked']]\n",
        "corr = pearson_columns.corr()\n",
        "sns.heatmap(corr, annot=True)"
      ],
      "metadata": {
        "colab": {
          "base_uri": "https://localhost:8080/",
          "height": 327
        },
        "id": "WgvGD2gUlYKy",
        "outputId": "ee688fda-6efa-499b-eccb-385d867c260d"
      },
      "execution_count": null,
      "outputs": [
        {
          "output_type": "execute_result",
          "data": {
            "text/plain": [
              "<matplotlib.axes._subplots.AxesSubplot at 0x7f9e43241490>"
            ]
          },
          "metadata": {},
          "execution_count": 16
        },
        {
          "output_type": "display_data",
          "data": {
            "text/plain": [
              "<Figure size 432x288 with 2 Axes>"
            ],
            "image/png": "[encoded data removed]"
          },
          "metadata": {
            "needs_background": "light"
          }
        }
      ]
    },
    {
      "cell_type": "markdown",
      "source": [
        "\n",
        "# Modeling:"
      ],
      "metadata": {
        "id": "tZm12oY9F2fv"
      }
    },
    {
      "cell_type": "markdown",
      "source": [
        "Using the correlation analysis, we determined what our first set of features will be for our models Logistic Regression, Naive Bayes, and the KNearest Neighbors Algorithm. We looked through each one of the most correlated features to survival and added them one by one to extract them from the training data set and checked to see if the F1-score increased or decreased as we added each feature. For each one of the data sets we split the data 75% training and 25% testing and also removed random selection so we can better compare the results from each model evenly. "
      ],
      "metadata": {
        "id": "DJKSIMOW95uo"
      }
    },
    {
      "cell_type": "markdown",
      "source": [
        "## Logistic Regression - Sid\n",
        "We use the features that have a high correlation to optimize the model and use a test size of 0.25. Based on the classification report, we received great results. With an f1-score of 0.87 for those that didn't survive, the model was well-fitted to the data while an f1-score of 0.73 for those that survived, although lower than those that didn't survive, is still a good f1-score. A precision of 0.85 shows that the model is not only accurate but also contains precision. A recall of 0.90 on predicting those that didn't survive (0) shows that the model is good at predicting those that didn't survive but a recall of 0.68 on predicting those that did survive (1) shows that the model isn't very accurate at predicting those that survived. An overall accuracy of 0.83 tells us that the model for predicting those that survived/did not survive is very accurate. "
      ],
      "metadata": {
        "id": "SEpcUBQ3WsUu"
      }
    },
    {
      "cell_type": "code",
      "source": [
        "x = train[[\"Pclass\", \"Age\", \"Parch\", \"Fare\", \"Sex\", \"Embarked\"]]\n",
        "y = train[\"Survived\"]\n",
        "\n",
        "x_train, x_test, y_train, y_test = train_test_split(x, y, test_size = .25, shuffle=False)\n",
        "\n",
        "# here we are training a Linear regression model against the x and y training data\n",
        "# increased the max iterations so that it doesn't get stuck in a local minimum in convergence\n",
        "model = LogisticRegression(max_iter=300)\n",
        "model.fit(x, y)\n",
        "\n",
        "predictions = model.predict(x_test)\n",
        "print(classification_report(y_test, predictions))"
      ],
      "metadata": {
        "id": "_OvyzKvgWxxz",
        "colab": {
          "base_uri": "https://localhost:8080/"
        },
        "outputId": "6944c484-e736-49a2-eb53-384b214c69d5"
      },
      "execution_count": null,
      "outputs": [
        {
          "output_type": "stream",
          "name": "stdout",
          "text": [
            "              precision    recall  f1-score   support\n",
            "\n",
            "           0       0.85      0.90      0.87       141\n",
            "           1       0.78      0.68      0.73        73\n",
            "\n",
            "    accuracy                           0.83       214\n",
            "   macro avg       0.81      0.79      0.80       214\n",
            "weighted avg       0.82      0.83      0.82       214\n",
            "\n"
          ]
        }
      ]
    },
    {
      "cell_type": "markdown",
      "source": [
        "## Naive Bayes - Mihir\n"
      ],
      "metadata": {
        "id": "EjqsKkI1z8-4"
      }
    },
    {
      "cell_type": "markdown",
      "source": [
        "For Naive Bayes, we did the same feature selection algorithm the same way we did for Logisitc Regression. We kept adding the most corelated features and checked to see when the f1-score started to peak. From this, we received the four features being PClass, Fare, Sex, and Embarked. The Naive Bayes model had an accuracy of .79 where it guessed True Positive and True Negative over all prediction 79 percent of the time correctly. We have an average for precision and recall being .79 and .76 respectively. Finally, it has an f1 of .79 as well for the weighted average. If you see from the previous classifier, this classifier too best predicts Not survived over survived data points."
      ],
      "metadata": {
        "id": "9rosZRbmQJ1I"
      }
    },
    {
      "cell_type": "code",
      "source": [
        "x = train[[\"Pclass\", \"Fare\", \"Sex\", \"Embarked\"]]\n",
        "y = train[\"Survived\"]\n",
        "\n",
        "x_train, x_test, y_train, y_test = train_test_split(x, y, test_size = .25, shuffle=False)\n",
        "\n",
        "gnb = GaussianNB()\n",
        "\n",
        "nb_pred = gnb.fit(x_train, y_train).predict(x_test)\n",
        "print(classification_report(y_test, nb_pred))"
      ],
      "metadata": {
        "id": "BlXioK2i0Q4L",
        "colab": {
          "base_uri": "https://localhost:8080/"
        },
        "outputId": "a19bdde4-6afd-4fd9-ab8c-48c7ca4729a7"
      },
      "execution_count": null,
      "outputs": [
        {
          "output_type": "stream",
          "name": "stdout",
          "text": [
            "              precision    recall  f1-score   support\n",
            "\n",
            "           0       0.84      0.83      0.84       141\n",
            "           1       0.68      0.70      0.69        73\n",
            "\n",
            "    accuracy                           0.79       214\n",
            "   macro avg       0.76      0.76      0.76       214\n",
            "weighted avg       0.79      0.79      0.79       214\n",
            "\n"
          ]
        }
      ]
    },
    {
      "cell_type": "markdown",
      "source": [
        "## KNearest Neighbors Algorithm - Mihir"
      ],
      "metadata": {
        "id": "cK1Pks3LIMZv"
      }
    },
    {
      "cell_type": "markdown",
      "source": [
        "For K Nearest Neighbors, we did the same feature selection algorithm the same way we did for Logisitc Regression. We kept adding the most corelated features and checked to see when the f1-score started to peak. From this, we received the four features being PClass, Fare, Sex, and Embarked. The K Nearest Neighbor model had an accuracy of .8 where it guessed True Positive and True Negative over all prediction 79 percent of the time correctly. We have an average for precision and recall being .8 and .8 respectively. Finally, it has an f1 of .79 as well for the weighted average. If you see from the previous classifier, this classifier too best predicts Not survived over survived data points."
      ],
      "metadata": {
        "id": "W3xBqqn7SC9T"
      }
    },
    {
      "cell_type": "code",
      "source": [
        "x = train[[\"Pclass\", \"Fare\", \"Sex\", \"Embarked\"]]\n",
        "y = train[\"Survived\"]\n",
        "\n",
        "x_train, x_test, y_train, y_test = train_test_split(x, y, test_size = .25, shuffle=False)\n",
        "\n",
        "neigh = KNeighborsClassifier(n_neighbors=7)\n",
        "\n",
        "neigh_pred = neigh.fit(x_train, y_train).predict(x_test)\n",
        "print(classification_report(y_test, neigh_pred))"
      ],
      "metadata": {
        "id": "GLE5trBzUMnI",
        "colab": {
          "base_uri": "https://localhost:8080/"
        },
        "outputId": "df165f5d-bc18-4478-96c1-5b72034f5efe"
      },
      "execution_count": null,
      "outputs": [
        {
          "output_type": "stream",
          "name": "stdout",
          "text": [
            "              precision    recall  f1-score   support\n",
            "\n",
            "           0       0.81      0.90      0.86       141\n",
            "           1       0.76      0.60      0.67        73\n",
            "\n",
            "    accuracy                           0.80       214\n",
            "   macro avg       0.79      0.75      0.76       214\n",
            "weighted avg       0.80      0.80      0.79       214\n",
            "\n"
          ]
        }
      ]
    },
    {
      "cell_type": "markdown",
      "source": [
        "## Improving upon the previous models - Mihir"
      ],
      "metadata": {
        "id": "974JscL1T6AR"
      }
    },
    {
      "cell_type": "markdown",
      "source": [
        "To check our results and f1-scores from past data to see if they are indeed efficient with features that we selected, we added a feature selection in SelectKBest features. SelectKBest selects the k best features that are ideal and that will optimize the f1-score. For each one of the classifiers above, we added a feature selector into a Pipeline object and see how it performs. For each one of the classifiers, there was no improvement seen. The only improvement we saw with a small bump in the average f1-score is in Logistic Regression. However this was only tested on one set of data, we need to perform cross validation on this "
      ],
      "metadata": {
        "id": "EDVxo0Fa7taI"
      }
    },
    {
      "cell_type": "code",
      "source": [
        "x = train[[\"Pclass\", \"Fare\", \"Sex\", \"Age\", \"SibSp\", \"Embarked\", \"Parch\"]]\n",
        "y = train[\"Survived\"]\n",
        "\n",
        "x_train, x_test, y_train, y_test = train_test_split(x, y, test_size = .25, shuffle=False)\n",
        "\n",
        "pipe_lg = Pipeline([('red', SelectKBest(chi2, k=6)),\n",
        "                 ('clf', LogisticRegression(max_iter=300))])\n",
        "\n",
        "pipe_lg.fit(x_train, y_train)\n",
        "pred_lg = pipe_lg.predict(x_test)\n",
        "print(classification_report(y_test, pred_lg))\n"
      ],
      "metadata": {
        "colab": {
          "base_uri": "https://localhost:8080/"
        },
        "id": "EY9q811xT5Gd",
        "outputId": "7eb0287a-f56f-4db1-f032-7dbec145c910"
      },
      "execution_count": null,
      "outputs": [
        {
          "output_type": "stream",
          "name": "stdout",
          "text": [
            "              precision    recall  f1-score   support\n",
            "\n",
            "           0       0.85      0.90      0.88       141\n",
            "           1       0.78      0.70      0.74        73\n",
            "\n",
            "    accuracy                           0.83       214\n",
            "   macro avg       0.82      0.80      0.81       214\n",
            "weighted avg       0.83      0.83      0.83       214\n",
            "\n"
          ]
        }
      ]
    },
    {
      "cell_type": "code",
      "source": [
        "pipe_nb = Pipeline([('red', SelectKBest(chi2, k=5)),\n",
        "                 ('clf', GaussianNB())])\n",
        "\n",
        "pipe_nb.fit(x_train, y_train)\n",
        "pred_nb = pipe_nb.predict(x_test)\n",
        "print(classification_report(y_test, pred_nb))\n"
      ],
      "metadata": {
        "colab": {
          "base_uri": "https://localhost:8080/"
        },
        "id": "3S029rBRZe_Y",
        "outputId": "33c7a3bd-048e-4822-ae2e-7e25b44bec39"
      },
      "execution_count": null,
      "outputs": [
        {
          "output_type": "stream",
          "name": "stdout",
          "text": [
            "              precision    recall  f1-score   support\n",
            "\n",
            "           0       0.83      0.84      0.84       141\n",
            "           1       0.69      0.67      0.68        73\n",
            "\n",
            "    accuracy                           0.79       214\n",
            "   macro avg       0.76      0.76      0.76       214\n",
            "weighted avg       0.78      0.79      0.78       214\n",
            "\n"
          ]
        }
      ]
    },
    {
      "cell_type": "code",
      "source": [
        "pipe_ne = Pipeline([('red', SelectKBest(chi2, k=5)),\n",
        "                 ('clf', KNeighborsClassifier(n_neighbors=7))])\n",
        "\n",
        "pipe_ne.fit(x_train, y_train)\n",
        "pred_ne = pipe_nb.predict(x_test)\n",
        "print(classification_report(y_test, pred_nb))"
      ],
      "metadata": {
        "colab": {
          "base_uri": "https://localhost:8080/"
        },
        "id": "2vAp0PryzdMn",
        "outputId": "ca233f7d-1643-41a0-e929-4055503a183f"
      },
      "execution_count": null,
      "outputs": [
        {
          "output_type": "stream",
          "name": "stdout",
          "text": [
            "              precision    recall  f1-score   support\n",
            "\n",
            "           0       0.83      0.84      0.84       141\n",
            "           1       0.69      0.67      0.68        73\n",
            "\n",
            "    accuracy                           0.79       214\n",
            "   macro avg       0.76      0.76      0.76       214\n",
            "weighted avg       0.78      0.79      0.78       214\n",
            "\n"
          ]
        }
      ]
    },
    {
      "cell_type": "markdown",
      "source": [
        "## Cross-Validation - Mihir"
      ],
      "metadata": {
        "id": "5aqjcCjk9P4R"
      }
    },
    {
      "cell_type": "markdown",
      "source": [
        "By using the function `cross_val_score()`, I am allowed to get an average and standard devation over multiple train test splits for the f1-score. From each one of the scores shown in the bottom, we can see it varies on whether the classifiers improved with SelectKBest method. For Logistic Regression, F1-score had the same mean with +/- .01 for std. For Naive Bayes, the model without the SelectKBest had the higher mean. For K Nearest Neighbors, the model with the SelectKBest function had the mean f1-score.\n",
        "\n",
        "\n",
        "\n",
        "\n"
      ],
      "metadata": {
        "id": "4xh_H1KoKIZN"
      }
    },
    {
      "cell_type": "code",
      "source": [
        "from sklearn.model_selection import ShuffleSplit\n",
        "cv = ShuffleSplit(n_splits=8, test_size=0.25, random_state=0)\n",
        "\n",
        "score_lg = cross_val_score(model, x, y, cv=cv, scoring=\"f1_macro\")\n",
        "score_k_lg = cross_val_score(pipe_lg, x, y, cv=cv, scoring=\"f1_macro\")\n",
        "\n",
        "for i in range(len(score_lg)):\n",
        "    print(\"Cross Validation Split %x: %0.2f\" % ((i + 1), score_lg[i]))\n",
        "\n",
        "print(\"\\n\")\n",
        "\n",
        "for i in range(len(score_k_lg)):\n",
        "    print(\"Cross Validation Split %x with SelectKBest Algorithm: %0.2f\" % ((i + 1), score_k_lg[i]))\n",
        "\n",
        "print(\"\\n\")\n",
        "\n",
        "print(\"%0.2f f1-score with a standard deviation of %0.2f for Logistic Regression\" % (score_lg.mean(), score_lg.std()))\n",
        "print(\"%0.2f f1-score with a standard deviation of %0.2f for Logistic Regression with SelectKBest\" % (score_k_lg.mean(), score_k_lg.std()))"
      ],
      "metadata": {
        "colab": {
          "base_uri": "https://localhost:8080/"
        },
        "id": "ZZvSZdyB9OYe",
        "outputId": "cd42b21b-9147-4851-a873-cf741ec1e249"
      },
      "execution_count": null,
      "outputs": [
        {
          "output_type": "stream",
          "name": "stdout",
          "text": [
            "Cross Validation Split 1: 0.79\n",
            "Cross Validation Split 2: 0.78\n",
            "Cross Validation Split 3: 0.81\n",
            "Cross Validation Split 4: 0.71\n",
            "Cross Validation Split 5: 0.74\n",
            "Cross Validation Split 6: 0.78\n",
            "Cross Validation Split 7: 0.80\n",
            "Cross Validation Split 8: 0.75\n",
            "\n",
            "\n",
            "Cross Validation Split 1 with SelectKBest Algorithm: 0.78\n",
            "Cross Validation Split 2 with SelectKBest Algorithm: 0.77\n",
            "Cross Validation Split 3 with SelectKBest Algorithm: 0.77\n",
            "Cross Validation Split 4 with SelectKBest Algorithm: 0.72\n",
            "Cross Validation Split 5 with SelectKBest Algorithm: 0.75\n",
            "Cross Validation Split 6 with SelectKBest Algorithm: 0.79\n",
            "Cross Validation Split 7 with SelectKBest Algorithm: 0.79\n",
            "Cross Validation Split 8 with SelectKBest Algorithm: 0.75\n",
            "0.77 f1-score with a standard deviation of 0.03 for Logistic Regression\n",
            "0.77 f1-score with a standard deviation of 0.02 for Logistic Regression with SelectKBest\n"
          ]
        }
      ]
    },
    {
      "cell_type": "code",
      "source": [
        "score_lg = cross_val_score(gnb, x, y, cv=cv, scoring=\"f1_macro\")\n",
        "score_k_lg = cross_val_score(pipe_nb, x, y, cv=cv, scoring=\"f1_macro\")\n",
        "\n",
        "for i in range(len(score_lg)):\n",
        "    print(\"Cross Validation Split %x: %0.2f\" % ((i + 1), score_lg[i]))\n",
        "\n",
        "print(\"\\n\")\n",
        "\n",
        "for i in range(len(score_k_lg)):\n",
        "    print(\"Cross Validation Split %x with SelectKBest Algorithm: %0.2f\" % ((i + 1), score_k_lg[i]))\n",
        "\n",
        "print(\"\\n\")\n",
        "\n",
        "print(\"%0.2f f1-score with a standard deviation of %0.2f for Naive Bayes\" % (score_lg.mean(), score_lg.std()))\n",
        "print(\"%0.2f f1-score with a standard deviation of %0.2f for Naive Bayes with SelectKBest\" % (score_k_lg.mean(), score_k_lg.std()))"
      ],
      "metadata": {
        "colab": {
          "base_uri": "https://localhost:8080/"
        },
        "id": "-KfwKcdPCmNH",
        "outputId": "b5a47fcf-cc22-426e-838b-b9a7b804a630"
      },
      "execution_count": null,
      "outputs": [
        {
          "output_type": "stream",
          "name": "stdout",
          "text": [
            "Cross Validation Split 1: 0.79\n",
            "Cross Validation Split 2: 0.73\n",
            "Cross Validation Split 3: 0.78\n",
            "Cross Validation Split 4: 0.71\n",
            "Cross Validation Split 5: 0.73\n",
            "Cross Validation Split 6: 0.75\n",
            "Cross Validation Split 7: 0.77\n",
            "Cross Validation Split 8: 0.73\n",
            "\n",
            "\n",
            "Cross Validation Split 1 with SelectKBest Algorithm: 0.79\n",
            "Cross Validation Split 2 with SelectKBest Algorithm: 0.71\n",
            "Cross Validation Split 3 with SelectKBest Algorithm: 0.76\n",
            "Cross Validation Split 4 with SelectKBest Algorithm: 0.68\n",
            "Cross Validation Split 5 with SelectKBest Algorithm: 0.74\n",
            "Cross Validation Split 6 with SelectKBest Algorithm: 0.75\n",
            "Cross Validation Split 7 with SelectKBest Algorithm: 0.76\n",
            "Cross Validation Split 8 with SelectKBest Algorithm: 0.74\n",
            "\n",
            "\n",
            "0.75 f1-score with a standard deviation of 0.03 for Naive Bayes\n",
            "0.74 f1-score with a standard deviation of 0.03 for Naive Bayes with SelectKBest\n"
          ]
        }
      ]
    },
    {
      "cell_type": "code",
      "source": [
        "score_lg = cross_val_score(neigh, x, y, cv=cv, scoring=\"f1_macro\")\n",
        "score_k_lg = cross_val_score(pipe_ne, x, y, cv=cv, scoring=\"f1_macro\")\n",
        "\n",
        "for i in range(len(score_lg)):\n",
        "    print(\"Cross Validation Split %x: %0.2f\" % ((i + 1), score_lg[i]))\n",
        "\n",
        "print(\"\\n\")\n",
        "\n",
        "for i in range(len(score_k_lg)):\n",
        "    print(\"Cross Validation Split %x with SelectKBest Algorithm: %0.2f\" % ((i + 1), score_k_lg[i]))\n",
        "\n",
        "print(\"\\n\")\n",
        "\n",
        "print(\"%0.2f f1-score with a standard deviation of %0.2f for K-Nearest Neighbors\" % (score_lg.mean(), score_lg.std()))\n",
        "print(\"%0.2f f1-score with a standard deviation of %0.2f for K-Nearest Neighbors with SelectKBest\" % (score_k_lg.mean(), score_k_lg.std()))"
      ],
      "metadata": {
        "colab": {
          "base_uri": "https://localhost:8080/"
        },
        "id": "pUpVFTAkDI7K",
        "outputId": "a5a64a7f-2e3c-425c-f0cf-7c77d98fd615"
      },
      "execution_count": null,
      "outputs": [
        {
          "output_type": "stream",
          "name": "stdout",
          "text": [
            "Cross Validation Split 1: 0.71\n",
            "Cross Validation Split 2: 0.63\n",
            "Cross Validation Split 3: 0.63\n",
            "Cross Validation Split 4: 0.69\n",
            "Cross Validation Split 5: 0.63\n",
            "Cross Validation Split 6: 0.64\n",
            "Cross Validation Split 7: 0.69\n",
            "Cross Validation Split 8: 0.63\n",
            "\n",
            "\n",
            "Cross Validation Split 1 with SelectKBest Algorithm: 0.71\n",
            "Cross Validation Split 2 with SelectKBest Algorithm: 0.62\n",
            "Cross Validation Split 3 with SelectKBest Algorithm: 0.70\n",
            "Cross Validation Split 4 with SelectKBest Algorithm: 0.69\n",
            "Cross Validation Split 5 with SelectKBest Algorithm: 0.74\n",
            "Cross Validation Split 6 with SelectKBest Algorithm: 0.67\n",
            "Cross Validation Split 7 with SelectKBest Algorithm: 0.69\n",
            "Cross Validation Split 8 with SelectKBest Algorithm: 0.63\n",
            "\n",
            "\n",
            "0.66 f1-score with a standard deviation of 0.03 for K-Nearest Neighbors\n",
            "0.68 f1-score with a standard deviation of 0.04 for K-Nearest Neighbors with SelectKBest\n"
          ]
        }
      ]
    },
    {
      "cell_type": "markdown",
      "source": [
        "# Conclusion\n",
        "\n",
        "In conclusion, using correlation matrix to determine which features would work or SelectKBest function for each classifier was very varied in its results and as a result we can see how it varies when we ran the Cross Validation. We saw that whichever method we used depended on the classifier we applied it to. The classifier that had the most success regardless of the method used for finding which features to implement is Logisitic Regression. Logistic Regression had an average of .77 f1-score over 8 different splits of the data compared around .74/.75 for Naive Bayes and .66/.68 for K-Nearest Neighbors."
      ],
      "metadata": {
        "id": "8rGAeQ96YnPC"
      }
    }
  ]
}